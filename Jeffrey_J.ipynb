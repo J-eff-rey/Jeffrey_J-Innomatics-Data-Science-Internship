{
  "metadata": {
    "kernelspec": {
      "name": "python",
      "display_name": "Python (Pyodide)",
      "language": "python"
    },
    "language_info": {
      "codemirror_mode": {
        "name": "python",
        "version": 3
      },
      "file_extension": ".py",
      "mimetype": "text/x-python",
      "name": "python",
      "nbconvert_exporter": "python",
      "pygments_lexer": "ipython3",
      "version": "3.8"
    }
  },
  "nbformat_minor": 5,
  "nbformat": 4,
  "cells": [
    {
      "id": "3b46848e-435a-40a0-bc6d-3171441ae747",
      "cell_type": "markdown",
      "source": "This is my code for the Innomatics Data Science Internship \nI have written the web scrapping code in colab and uploaded the same",
      "metadata": {}
    },
    {
      "id": "d85a4a9a-ed7e-496f-9c8e-06573c04c419",
      "cell_type": "code",
      "source": "#shape of \"movies.csv\nimport pandas as pd\nfile_path = 'movies.csv'\ndf = pd.read_csv(file_path)\ndata_shape = df.shape\nprint(f\"CSV file has {data_shape[0]} rows and {data_shape[1]} columns.\")\n",
      "metadata": {
        "trusted": true
      },
      "outputs": [],
      "execution_count": null
    },
    {
      "id": "2c2e040e-9750-4f26-9e07-57993f42df38",
      "cell_type": "code",
      "source": "#shape of \"ratings.csv\"\nfile_path = 'ratings.csv'\ndf = pd.read_csv(file_path)\ndata_shape = df.shape\nprint(f\"CSV file has {data_shape[0]} rows and {data_shape[1]} columns.\")",
      "metadata": {
        "trusted": true
      },
      "outputs": [
        {
          "name": "stdout",
          "text": "CSV file has 100836 rows and 4 columns.\n",
          "output_type": "stream"
        }
      ],
      "execution_count": 4
    },
    {
      "id": "f83baddb-766d-450b-8995-20a8e4a631c8",
      "cell_type": "code",
      "source": "#How many unique \"userId\" are available in \"ratings.csv\"?\nratings_file_path = 'ratings.csv'\nratings_df = pd.read_csv(ratings_file_path)\nunique_user_ids = ratings_df['userId'].nunique()\nprint(f\"There are {unique_user_ids} unique userId values in the 'ratings.csv' file.\")\n",
      "metadata": {
        "trusted": true
      },
      "outputs": [
        {
          "name": "stdout",
          "text": "There are 610 unique userId values in the 'ratings.csv' file.\n",
          "output_type": "stream"
        }
      ],
      "execution_count": 5
    },
    {
      "id": "6f0c601f-3cd4-463a-8106-09cc8eaaee34",
      "cell_type": "code",
      "source": "#Which movie has recieved maximum number of user ratings?\nratings = pd.read_csv('ratings.csv')\n# Group by movieId and count the number of ratings\nmovie_ratings_count = ratings.groupby('movieId')['rating'].count()\n#movieId with the maximum number of ratings\nmax_ratings_movie_id = movie_ratings_count.idxmax()\n#movie title corresponding to the movieId\nmovies = pd.read_csv('movies.csv')\nmax_ratings_movie_title = movies[movies['movieId'] == max_ratings_movie_id]['title'].values[0]\nprint(f\"The movie with the maximum number of user ratings is '{max_ratings_movie_title}' with {movie_ratings_count[max_ratings_movie_id]} ratings.\")\n",
      "metadata": {
        "trusted": true
      },
      "outputs": [
        {
          "name": "stdout",
          "text": "The movie with the maximum number of user ratings is 'Forrest Gump (1994)' with 329 ratings.\n",
          "output_type": "stream"
        }
      ],
      "execution_count": 6
    },
    {
      "id": "afd2d7c0-de1a-4e4c-b46b-0729f6171ff6",
      "cell_type": "code",
      "source": "#Select all the correct tags submitted by users to \"Matrix, The (1999)\" movie?\ntags = pd.read_csv('tags.csv')\nmovies = pd.read_csv('movies.csv')\nmatrix_movie_id = movies[movies['title'] == 'Matrix, The (1999)']['movieId'].values[0]\n# Filter tags for the specific movieId\nmatrix_tags = tags[tags['movieId'] == matrix_movie_id]\n# Display the tags for \"Matrix, The (1999)\"\nprint(f\"Tags for 'Matrix, The (1999)':\")\nprint(matrix_tags['tag'].values)\n\n# from the given only karate is not present",
      "metadata": {
        "trusted": true
      },
      "outputs": [
        {
          "name": "stdout",
          "text": "Tags for 'Matrix, The (1999)':\n['martial arts' 'sci-fi' 'alternate universe' 'philosophy'\n 'post apocalyptic']\n",
          "output_type": "stream"
        }
      ],
      "execution_count": 7
    },
    {
      "id": "becc62a5-d264-4834-88cf-13dd5a9d66bd",
      "cell_type": "code",
      "source": "#What is the average user rating for movie named \"Terminator 2: Judgment Day (1991)\"?\nratings = pd.read_csv('ratings.csv')\n# Load the movies dataset to get the movieId for \"Terminator 2: Judgment Day (1991)\"\nmovies = pd.read_csv('movies.csv')\nterminator2_movie_id = movies[movies['title'] == 'Terminator 2: Judgment Day (1991)']['movieId'].values[0]\n# Filter ratings for the specific movieId\nterminator2_ratings = ratings[ratings['movieId'] == terminator2_movie_id]\n# Calculate the average rating\naverage_rating = terminator2_ratings['rating'].mean()\nprint(f\"The average user rating for 'Terminator 2: Judgment Day (1991)' is {average_rating:.2f}.\")\n",
      "metadata": {
        "trusted": true
      },
      "outputs": [
        {
          "name": "stdout",
          "text": "The average user rating for 'Terminator 2: Judgment Day (1991)' is 3.97.\n",
          "output_type": "stream"
        }
      ],
      "execution_count": 8
    },
    {
      "id": "ec1f1d25-3d40-4999-b225-1dc37841167f",
      "cell_type": "code",
      "source": "import matplotlib.pyplot as plt\nratings = pd.read_csv('ratings.csv')\n# Load the movies dataset to get the movieId for \"Fight Club (1999)\"\nmovies = pd.read_csv('movies.csv')\nfight_club_movie_id = movies[movies['title'] == 'Fight Club (1999)']['movieId'].values[0]\n# Filter ratings for the fight club\nfight_club_ratings = ratings[ratings['movieId'] == fight_club_movie_id]\nplt.figure(figsize=(10, 6))\nplt.hist(fight_club_ratings['rating'], bins=[0.5, 1.5, 2.5, 3.5, 4.5, 5.5], edgecolor='black', alpha=0.7)\nplt.title('User Ratings Distribution for \"Fight Club (1999)\"')\nplt.xlabel('Rating')\nplt.ylabel('Number of Users')\nplt.xticks([1, 2, 3, 4, 5])\nplt.grid(axis='y', linestyle='--', alpha=0.7)\nplt.show()",
      "metadata": {
        "trusted": true
      },
      "outputs": [
        {
          "output_type": "display_data",
          "data": {
            "text/plain": "<Figure size 1000x600 with 1 Axes>",
            "image/png": "[encoded data removed]"
          },
          "metadata": {}
        }
      ],
      "execution_count": 10
    },
    {
      "id": "e5dd3b36-bb5d-4330-83d0-b6a5df29f082",
      "cell_type": "code",
      "source": "# from the above plot it is evident that it has left skewed distribution",
      "metadata": {
        "trusted": true
      },
      "outputs": [],
      "execution_count": null
    },
    {
      "id": "37dad777-210d-4468-8fc1-3d26605cbe99",
      "cell_type": "code",
      "source": "ratings = pd.read_csv('ratings.csv')\ngrouped_ratings = ratings.groupby('movieId').agg({'rating': ['count', 'mean']})\ngrouped_ratings = grouped_ratings.reset_index()\n# Load the movies dataset\nmovies = pd.read_csv('movies.csv')\n# Perform inner join on the movies and grouped_ratings dataframes\nmerged_data = pd.merge(movies, grouped_ratings, on='movieId', how='inner')\nmerged_data.columns = ['movieId', 'title', 'genres', 'rating_count', 'avg_rating']\n# Filter only those movies with more than 50 user ratings\nfiltered_data = merged_data[merged_data['rating_count'] > 50]\nprint(filtered_data.head())",
      "metadata": {
        "trusted": true
      },
      "outputs": [
        {
          "name": "stderr",
          "text": "<ipython-input-11-0aaa9c3f8a42>:7: FutureWarning: merging between different levels is deprecated and will be removed in a future version. (1 levels on the left, 2 on the right)\n  merged_data = pd.merge(movies, grouped_ratings, on='movieId', how='inner')\n<ipython-input-11-0aaa9c3f8a42>:7: PerformanceWarning: dropping on a non-lexsorted multi-index without a level parameter may impact performance.\n  merged_data = pd.merge(movies, grouped_ratings, on='movieId', how='inner')\n",
          "output_type": "stream"
        },
        {
          "name": "stdout",
          "text": "   movieId                    title  \\\n0        1         Toy Story (1995)   \n1        2           Jumanji (1995)   \n2        3  Grumpier Old Men (1995)   \n5        6              Heat (1995)   \n6        7           Sabrina (1995)   \n\n                                        genres  rating_count  avg_rating  \n0  Adventure|Animation|Children|Comedy|Fantasy           215    3.920930  \n1                   Adventure|Children|Fantasy           110    3.431818  \n2                               Comedy|Romance            52    3.259615  \n5                        Action|Crime|Thriller           102    3.946078  \n6                               Comedy|Romance            54    3.185185  \n",
          "output_type": "stream"
        }
      ],
      "execution_count": 11
    },
    {
      "id": "9c518d98-b53a-453e-af7f-afbae6549ed2",
      "cell_type": "code",
      "source": "#Which movie is the most popular based on  average user ratings?\n\n#Answer this question only after applying the above mentioned \"Mandatory Operration\".\n# Sort the filtered_data by average rating in descending order\nmost_popular_movie = filtered_data.sort_values(by='avg_rating', ascending=False).head(1)\n\n# Display the most popular movie\nprint(\"The most popular movie based on average user ratings is:\")\nprint(most_popular_movie[['title', 'avg_rating']])",
      "metadata": {
        "trusted": true
      },
      "outputs": [
        {
          "name": "stdout",
          "text": "The most popular movie based on average user ratings is:\n                                title  avg_rating\n277  Shawshank Redemption, The (1994)    4.429022\n",
          "output_type": "stream"
        }
      ],
      "execution_count": 12
    },
    {
      "id": "ea34ab0c-344d-4575-b7c6-cdba52fd57f4",
      "cell_type": "code",
      "source": "#Select all the correct options which comes under top 5 popular movies based on number of user ratings.\n\n# Sort the filtered_data by rating count in descending order\ntop5_popular_movies = filtered_data.sort_values(by='rating_count', ascending=False).head(5)\n\n# Display the top 5 popular movies\nprint(\"Top 5 popular movies based on number of user ratings are:\")\nprint(top5_popular_movies[['title', 'rating_count']])\n",
      "metadata": {
        "trusted": true
      },
      "outputs": [
        {
          "name": "stdout",
          "text": "Top 5 popular movies based on number of user ratings are:\n                                 title  rating_count\n314                Forrest Gump (1994)           329\n277   Shawshank Redemption, The (1994)           317\n257                Pulp Fiction (1994)           307\n510   Silence of the Lambs, The (1991)           279\n1938                Matrix, The (1999)           278\n",
          "output_type": "stream"
        }
      ],
      "execution_count": 13
    },
    {
      "id": "e4fdd28b-8692-4bc7-bb81-6bf8fae0f2a8",
      "cell_type": "markdown",
      "source": "#bad boys is not in the list",
      "metadata": {}
    },
    {
      "id": "81cbb16c-c9ca-4cbe-8b71-c3c32891fa57",
      "cell_type": "code",
      "source": "#Which Sci-Fi movie is \"third most popular\" based on the number of user ratings?\n\n# Filter Sci-Fi movies from the filtered_data\nsci_fi_movies = filtered_data[filtered_data['genres'].str.contains('Sci-Fi')]\n\n# Sort Sci-Fi movies by rating count in descending order\ntop_sci_fi_movies = sci_fi_movies.sort_values(by='rating_count', ascending=False)\n\n# Select the third row (index 2, since indexing starts from 0)\nthird_most_popular_sci_fi_movie = top_sci_fi_movies.iloc[2]\n\n# Display the third most popular Sci-Fi movie\nprint(\"The third most popular Sci-Fi movie based on number of user ratings is:\")\nprint(third_most_popular_sci_fi_movie[['title', 'rating_count']])",
      "metadata": {
        "trusted": true
      },
      "outputs": [
        {
          "name": "stdout",
          "text": "The third most popular Sci-Fi movie based on number of user ratings is:\ntitle           Jurassic Park (1993)\nrating_count                     238\nName: 418, dtype: object\n",
          "output_type": "stream"
        }
      ],
      "execution_count": 14
    },
    {
      "id": "65499038-af16-4583-a891-f4c85fad9390",
      "cell_type": "code",
      "source": "#To find the movieId of the movie which has the highest IMDB rating.\n# I took out the filtered data and checked in the first movie in the imdb top 250 list is present\n# Display the list of movies with more than 50 user ratings\nfiltered_data[['title', 'rating_count']]\nshawshank_movie_id = filtered_data[filtered_data['title'] == 'Shawshank Redemption, The (1994)']['movieId'].values[0]\nprint(f\"The movieId for 'Shawshank Redemption, The (1994)' is {shawshank_movie_id}.\")\n# which was Shawshank Redemption, The (1994) with Id 318\n",
      "metadata": {
        "trusted": true
      },
      "outputs": [],
      "execution_count": null
    },
    {
      "id": "1abe2f50-7152-4b56-80eb-57f891561994",
      "cell_type": "code",
      "source": "#Mention the movieId of the \"Sci-Fi\" movie which has the highest IMDB rating.\n#In order to find this i filtered the movies with more than 50 user ratings and has scifi tag\n#Then i checked in IMDB top 250 list\n# Filter movies with \"Sci-Fi\" genre tag from filtered_data\nsci_fi_movies = filtered_data[filtered_data['genres'].str.contains('Sci-Fi')]\n# Display the list of Sci-Fi movies\nsci_fi_movies[['title', 'rating_count']]\ninception_movie_id = filtered_data[filtered_data['title'] == 'Inception (2010)']['movieId'].values[0]\nprint(f\"The movieId for 'Inception' is {inception_movie_id}.\")\n# The Inception movie topped the list with movie id 79132",
      "metadata": {
        "trusted": true
      },
      "outputs": [
        {
          "name": "stdout",
          "text": "The movieId for 'Inception' is 79132.\n",
          "output_type": "stream"
        }
      ],
      "execution_count": 29
    }
  ]
}